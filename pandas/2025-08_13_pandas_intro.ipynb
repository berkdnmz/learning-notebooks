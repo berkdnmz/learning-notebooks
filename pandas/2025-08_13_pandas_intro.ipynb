{
 "cells": [
  {
   "cell_type": "code",
   "execution_count": 2,
   "id": "400989bc-3ea5-4670-9aa7-ae1a15a3db51",
   "metadata": {},
   "outputs": [],
   "source": [
    "import pandas as pd\n",
    "import numpy as np"
   ]
  },
  {
   "cell_type": "code",
   "execution_count": 3,
   "id": "2a820b40-d090-42d0-a3d0-3f7b78c3ece7",
   "metadata": {},
   "outputs": [],
   "source": [
    "#series"
   ]
  },
  {
   "cell_type": "code",
   "execution_count": 4,
   "id": "42c12c4e-56b6-42e0-a8c3-7561663fd745",
   "metadata": {},
   "outputs": [],
   "source": [
    "my_dict = {\"James\" : 50, \"Lars\": 60, \"Kirk\" : 55, \"Rob\" : 65}"
   ]
  },
  {
   "cell_type": "code",
   "execution_count": 5,
   "id": "21074522-9ab3-448a-b306-a65bcad9af44",
   "metadata": {},
   "outputs": [
    {
     "data": {
      "text/plain": [
       "James    50\n",
       "Lars     60\n",
       "Kirk     55\n",
       "Rob      65\n",
       "dtype: int64"
      ]
     },
     "execution_count": 5,
     "metadata": {},
     "output_type": "execute_result"
    }
   ],
   "source": [
    "pd.Series(my_dict)"
   ]
  },
  {
   "cell_type": "code",
   "execution_count": 4,
   "id": "d4da82e8-037f-4a6b-a712-efbb420eb452",
   "metadata": {},
   "outputs": [],
   "source": [
    "age_list = [50,60,55,65]\n",
    "name_list = [\"James\", \"Lark\", \"Kirk\", \"Rob\"]"
   ]
  },
  {
   "cell_type": "code",
   "execution_count": 5,
   "id": "079f785c-7966-4c96-bd90-44ecee081075",
   "metadata": {},
   "outputs": [
    {
     "data": {
      "text/plain": [
       "James    50\n",
       "Lark     60\n",
       "Kirk     55\n",
       "Rob      65\n",
       "dtype: int64"
      ]
     },
     "execution_count": 5,
     "metadata": {},
     "output_type": "execute_result"
    }
   ],
   "source": [
    "pd.Series(age_list, name_list)"
   ]
  },
  {
   "cell_type": "code",
   "execution_count": 6,
   "id": "53ac8845-d71e-4cc5-a4f1-ac69ccd35d61",
   "metadata": {},
   "outputs": [
    {
     "data": {
      "text/plain": [
       "James    50\n",
       "Lark     60\n",
       "Kirk     55\n",
       "Rob      65\n",
       "dtype: int64"
      ]
     },
     "execution_count": 6,
     "metadata": {},
     "output_type": "execute_result"
    }
   ],
   "source": [
    "pd.Series(data=age_list,index=name_list)"
   ]
  },
  {
   "cell_type": "code",
   "execution_count": null,
   "id": "68ba5398-1b7d-45bb-a0c3-1b16ae6c01c0",
   "metadata": {},
   "outputs": [],
   "source": []
  }
 ],
 "metadata": {
  "kernelspec": {
   "display_name": "Python (myenv)",
   "language": "python",
   "name": "myenv"
  },
  "language_info": {
   "codemirror_mode": {
    "name": "ipython",
    "version": 3
   },
   "file_extension": ".py",
   "mimetype": "text/x-python",
   "name": "python",
   "nbconvert_exporter": "python",
   "pygments_lexer": "ipython3",
   "version": "3.11.13"
  }
 },
 "nbformat": 4,
 "nbformat_minor": 5
}
