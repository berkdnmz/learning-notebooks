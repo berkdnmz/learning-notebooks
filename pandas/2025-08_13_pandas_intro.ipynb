{
 "cells": [
  {
   "cell_type": "code",
   "execution_count": 2,
   "id": "400989bc-3ea5-4670-9aa7-ae1a15a3db51",
   "metadata": {},
   "outputs": [],
   "source": [
    "import pandas as pd\n",
    "import numpy as np"
   ]
  },
  {
   "cell_type": "code",
   "execution_count": 3,
   "id": "2a820b40-d090-42d0-a3d0-3f7b78c3ece7",
   "metadata": {},
   "outputs": [],
   "source": [
    "#series"
   ]
  },
  {
   "cell_type": "code",
   "execution_count": 4,
   "id": "42c12c4e-56b6-42e0-a8c3-7561663fd745",
   "metadata": {},
   "outputs": [],
   "source": [
    "my_dict = {\"James\" : 50, \"Lars\": 60, \"Kirk\" : 55, \"Rob\" : 65}"
   ]
  },
  {
   "cell_type": "code",
   "execution_count": 5,
   "id": "21074522-9ab3-448a-b306-a65bcad9af44",
   "metadata": {},
   "outputs": [
    {
     "data": {
      "text/plain": [
       "James    50\n",
       "Lars     60\n",
       "Kirk     55\n",
       "Rob      65\n",
       "dtype: int64"
      ]
     },
     "execution_count": 5,
     "metadata": {},
     "output_type": "execute_result"
    }
   ],
   "source": [
    "pd.Series(my_dict)"
   ]
  },
  {
   "cell_type": "code",
   "execution_count": 4,
   "id": "d4da82e8-037f-4a6b-a712-efbb420eb452",
   "metadata": {},
   "outputs": [],
   "source": [
    "age_list = [50,60,55,65]\n",
    "name_list = [\"James\", \"Lark\", \"Kirk\", \"Rob\"]"
   ]
  },
  {
   "cell_type": "code",
   "execution_count": 5,
   "id": "079f785c-7966-4c96-bd90-44ecee081075",
   "metadata": {},
   "outputs": [
    {
     "data": {
      "text/plain": [
       "James    50\n",
       "Lark     60\n",
       "Kirk     55\n",
       "Rob      65\n",
       "dtype: int64"
      ]
     },
     "execution_count": 5,
     "metadata": {},
     "output_type": "execute_result"
    }
   ],
   "source": [
    "pd.Series(age_list, name_list)"
   ]
  },
  {
   "cell_type": "code",
   "execution_count": 6,
   "id": "53ac8845-d71e-4cc5-a4f1-ac69ccd35d61",
   "metadata": {},
   "outputs": [
    {
     "data": {
      "text/plain": [
       "James    50\n",
       "Lark     60\n",
       "Kirk     55\n",
       "Rob      65\n",
       "dtype: int64"
      ]
     },
     "execution_count": 6,
     "metadata": {},
     "output_type": "execute_result"
    }
   ],
   "source": [
    "pd.Series(data=age_list,index=name_list)"
   ]
  },
  {
   "cell_type": "code",
   "execution_count": 7,
   "id": "68ba5398-1b7d-45bb-a0c3-1b16ae6c01c0",
   "metadata": {},
   "outputs": [],
   "source": [
    "numpy_array = np.arange(0,8)"
   ]
  },
  {
   "cell_type": "code",
   "execution_count": 8,
   "id": "e1bfd3a8-ddb2-4e79-b579-c73eb83af1d0",
   "metadata": {},
   "outputs": [
    {
     "data": {
      "text/plain": [
       "array([0, 1, 2, 3, 4, 5, 6, 7])"
      ]
     },
     "execution_count": 8,
     "metadata": {},
     "output_type": "execute_result"
    }
   ],
   "source": [
    "numpy_array"
   ]
  },
  {
   "cell_type": "code",
   "execution_count": 10,
   "id": "9840a8ab-eeed-41a7-8ca6-cba2aec5f2b6",
   "metadata": {},
   "outputs": [
    {
     "data": {
      "text/plain": [
       "0    0\n",
       "1    1\n",
       "2    2\n",
       "3    3\n",
       "4    4\n",
       "5    5\n",
       "6    6\n",
       "7    7\n",
       "dtype: int64"
      ]
     },
     "execution_count": 10,
     "metadata": {},
     "output_type": "execute_result"
    }
   ],
   "source": [
    "pd.Series(numpy_array)"
   ]
  },
  {
   "cell_type": "code",
   "execution_count": 18,
   "id": "95fe23b9-50b3-41e9-8547-4e117f2a54d4",
   "metadata": {},
   "outputs": [],
   "source": [
    "new_numpy_array = np.array([10,20,30,40])"
   ]
  },
  {
   "cell_type": "code",
   "execution_count": 19,
   "id": "92755da6-ce20-4073-acb0-03eb878d00f2",
   "metadata": {},
   "outputs": [
    {
     "data": {
      "text/plain": [
       "array([10, 20, 30, 40])"
      ]
     },
     "execution_count": 19,
     "metadata": {},
     "output_type": "execute_result"
    }
   ],
   "source": [
    "new_numpy_array"
   ]
  },
  {
   "cell_type": "code",
   "execution_count": 20,
   "id": "b10a1af7-9538-4060-af11-3b1b2028eabd",
   "metadata": {},
   "outputs": [
    {
     "data": {
      "text/plain": [
       "0    10\n",
       "1    20\n",
       "2    30\n",
       "3    40\n",
       "dtype: int64"
      ]
     },
     "execution_count": 20,
     "metadata": {},
     "output_type": "execute_result"
    }
   ],
   "source": [
    "pd.Series(new_numpy_array)"
   ]
  },
  {
   "cell_type": "code",
   "execution_count": 21,
   "id": "c1ff5024-486d-4f54-96e8-44ea4c18090b",
   "metadata": {},
   "outputs": [
    {
     "data": {
      "text/plain": [
       "array([10, 20, 30, 40])"
      ]
     },
     "execution_count": 21,
     "metadata": {},
     "output_type": "execute_result"
    }
   ],
   "source": [
    "new_numpy_array"
   ]
  },
  {
   "cell_type": "code",
   "execution_count": 22,
   "id": "45e9b6ee-e0c5-4c72-85c0-0abd27d1522f",
   "metadata": {},
   "outputs": [
    {
     "data": {
      "text/plain": [
       "['James', 'Lark', 'Kirk', 'Rob']"
      ]
     },
     "execution_count": 22,
     "metadata": {},
     "output_type": "execute_result"
    }
   ],
   "source": [
    "name_list"
   ]
  },
  {
   "cell_type": "code",
   "execution_count": 23,
   "id": "c48c3dfd-6af8-4c26-a37b-9f311c84b1f8",
   "metadata": {},
   "outputs": [
    {
     "data": {
      "text/plain": [
       "James    10\n",
       "Lark     20\n",
       "Kirk     30\n",
       "Rob      40\n",
       "dtype: int64"
      ]
     },
     "execution_count": 23,
     "metadata": {},
     "output_type": "execute_result"
    }
   ],
   "source": [
    "pd.Series(data=new_numpy_array, index=name_list)"
   ]
  },
  {
   "cell_type": "code",
   "execution_count": 24,
   "id": "70ed920a-0b11-494b-aa3f-066d198fb248",
   "metadata": {},
   "outputs": [],
   "source": [
    "my_series = pd.Series(data=new_numpy_array, index=name_list)"
   ]
  },
  {
   "cell_type": "code",
   "execution_count": 25,
   "id": "1e7ad2fb-a4da-441d-a614-160fb872e686",
   "metadata": {},
   "outputs": [
    {
     "data": {
      "text/plain": [
       "James    10\n",
       "Lark     20\n",
       "Kirk     30\n",
       "Rob      40\n",
       "dtype: int64"
      ]
     },
     "execution_count": 25,
     "metadata": {},
     "output_type": "execute_result"
    }
   ],
   "source": [
    "my_series"
   ]
  },
  {
   "cell_type": "code",
   "execution_count": 26,
   "id": "fa5dc042-65bb-4f70-82ea-ec5b15a57f7f",
   "metadata": {},
   "outputs": [
    {
     "data": {
      "text/plain": [
       "pandas.core.series.Series"
      ]
     },
     "execution_count": 26,
     "metadata": {},
     "output_type": "execute_result"
    }
   ],
   "source": [
    "type(my_series)"
   ]
  },
  {
   "cell_type": "code",
   "execution_count": 29,
   "id": "bc36564d-754c-4eb3-8a54-33d151c2206e",
   "metadata": {},
   "outputs": [],
   "source": [
    "my_series[\"Kirk\"] = 60"
   ]
  },
  {
   "cell_type": "markdown",
   "id": "46991257-1b37-456b-80b7-01fffe4fc558",
   "metadata": {},
   "source": [
    "my_series"
   ]
  },
  {
   "cell_type": "code",
   "execution_count": 30,
   "id": "21cf3b33-db55-4958-82e6-669f0f32828b",
   "metadata": {},
   "outputs": [
    {
     "data": {
      "text/plain": [
       "James    10\n",
       "Lark     20\n",
       "Kirk     60\n",
       "Rob      40\n",
       "dtype: int64"
      ]
     },
     "execution_count": 30,
     "metadata": {},
     "output_type": "execute_result"
    }
   ],
   "source": [
    "my_series"
   ]
  },
  {
   "cell_type": "code",
   "execution_count": 32,
   "id": "029fc56d-20c7-481a-b17e-a16f614b8025",
   "metadata": {},
   "outputs": [],
   "source": [
    "quiz_result1 = pd.Series(data=[70,60,100], index =[\"A\",\"B\",\"C\"])"
   ]
  },
  {
   "cell_type": "code",
   "execution_count": 33,
   "id": "f7eaab7e-ed28-40ba-ab0b-8ba8b18a9087",
   "metadata": {},
   "outputs": [],
   "source": [
    "quiz_result2 = pd.Series(data=[30,80,70], index =[\"A\",\"B\",\"C\"])"
   ]
  },
  {
   "cell_type": "code",
   "execution_count": 34,
   "id": "691ce0c6-e312-45f5-8b7f-1a86d9e9fc99",
   "metadata": {},
   "outputs": [
    {
     "data": {
      "text/plain": [
       "A     70\n",
       "B     60\n",
       "C    100\n",
       "dtype: int64"
      ]
     },
     "execution_count": 34,
     "metadata": {},
     "output_type": "execute_result"
    }
   ],
   "source": [
    "quiz_result1"
   ]
  },
  {
   "cell_type": "code",
   "execution_count": 35,
   "id": "231c416f-df4e-4c69-a8da-05be28fb485c",
   "metadata": {},
   "outputs": [
    {
     "data": {
      "text/plain": [
       "A    30\n",
       "B    80\n",
       "C    70\n",
       "dtype: int64"
      ]
     },
     "execution_count": 35,
     "metadata": {},
     "output_type": "execute_result"
    }
   ],
   "source": [
    "quiz_result2"
   ]
  },
  {
   "cell_type": "code",
   "execution_count": 36,
   "id": "e5a79e6f-e468-499d-af0b-451251a02f48",
   "metadata": {},
   "outputs": [
    {
     "data": {
      "text/plain": [
       "A    100\n",
       "B    140\n",
       "C    170\n",
       "dtype: int64"
      ]
     },
     "execution_count": 36,
     "metadata": {},
     "output_type": "execute_result"
    }
   ],
   "source": [
    "quiz_result1 + quiz_result2"
   ]
  },
  {
   "cell_type": "code",
   "execution_count": 37,
   "id": "b8910ad8-a6b9-4654-ae28-fad74f947322",
   "metadata": {},
   "outputs": [],
   "source": [
    "exam_result1 = pd.Series(data=[70,60,100], index =[\"A\",\"B\",\"C\"])"
   ]
  },
  {
   "cell_type": "code",
   "execution_count": 38,
   "id": "a88b3cff-cd9e-4098-91aa-d64cd9a70918",
   "metadata": {},
   "outputs": [],
   "source": [
    "exam_result2 = pd.Series(data=[30,80,70], index =[\"A\",\"D\",\"C\"])"
   ]
  },
  {
   "cell_type": "code",
   "execution_count": 40,
   "id": "0f702056-b68f-4548-a362-bf99f6db10bc",
   "metadata": {},
   "outputs": [
    {
     "data": {
      "text/plain": [
       "A    100.0\n",
       "B      NaN\n",
       "C    170.0\n",
       "D      NaN\n",
       "dtype: float64"
      ]
     },
     "execution_count": 40,
     "metadata": {},
     "output_type": "execute_result"
    }
   ],
   "source": [
    "exam_result1 + exam_result2"
   ]
  },
  {
   "cell_type": "code",
   "execution_count": null,
   "id": "c6bd6674-e979-4828-93b4-f4994ca76e20",
   "metadata": {},
   "outputs": [],
   "source": []
  }
 ],
 "metadata": {
  "kernelspec": {
   "display_name": "Python (myenv)",
   "language": "python",
   "name": "myenv"
  },
  "language_info": {
   "codemirror_mode": {
    "name": "ipython",
    "version": 3
   },
   "file_extension": ".py",
   "mimetype": "text/x-python",
   "name": "python",
   "nbconvert_exporter": "python",
   "pygments_lexer": "ipython3",
   "version": "3.11.13"
  }
 },
 "nbformat": 4,
 "nbformat_minor": 5
}
