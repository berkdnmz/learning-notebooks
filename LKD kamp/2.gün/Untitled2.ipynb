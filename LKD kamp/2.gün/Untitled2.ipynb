{
 "cells": [
  {
   "cell_type": "code",
   "execution_count": null,
   "id": "14d779e9-b48e-4a83-820c-d1a3390d4ef4",
   "metadata": {},
   "outputs": [],
   "source": [
    "from sklearn.cluster import KMeans, DBSCAN\n",
    "from sklearn.datasets import make_blobs\n",
    "import matplotlib.pyplot as plt\n",
    "import numpy as np\n",
    "\n",
    "import importnb\n",
    "with importnb.Notebook():\n",
    "    from myKmeans import kmeans as mykmeans\n",
    "with importnb.Notebook():\n",
    "    from myDBSCAN import dbscan as mydbscan"
   ]
  },
  {
   "cell_type": "code",
   "execution_count": null,
   "id": "29f2c8bc-b3d5-472f-afa0-7fd996cb565b",
   "metadata": {},
   "outputs": [],
   "source": [
    "X, y = make_blobs(n_samples=1000, centers=4, cluster_std=2.4, random_state=31)\n",
    "plt.scatter(X[:,0], X[:,1], c=\"black\", s=100, alpha=1, label=\"Original Data\")"
   ]
  },
  {
   "cell_type": "code",
   "execution_count": null,
   "id": "1fa6756d-a984-4301-b5d3-6862ab783b87",
   "metadata": {},
   "outputs": [],
   "source": [
    "kmeans = KMeans(n_clusters = 4)\n",
    "kmeans.fit_transform(X)"
   ]
  },
  {
   "cell_type": "code",
   "execution_count": null,
   "id": "81543db7-08d5-4db5-a80e-a6c819d0c1c0",
   "metadata": {},
   "outputs": [],
   "source": [
    "y_kmeans = kmeans.predict(X)"
   ]
  },
  {
   "cell_type": "code",
   "execution_count": null,
   "id": "13974007-0772-4088-8684-53ba8bac4521",
   "metadata": {},
   "outputs": [],
   "source": [
    "plt.scatter(X[:,0], X[:,1], c=y_kmeans, cmap=\"viridis\", s=50)\n",
    "plt.title(\"K-means Clustering\")\n",
    "plt.show()"
   ]
  },
  {
   "cell_type": "code",
   "execution_count": null,
   "id": "50e6ca42-db0b-4272-82dc-8fb555a08a22",
   "metadata": {},
   "outputs": [],
   "source": [
    "dbscan = DBSCAN(eps=2, min_samples=4)\n",
    "y_dbscan = dbscan.fit_predict(X)"
   ]
  },
  {
   "cell_type": "code",
   "execution_count": null,
   "id": "a5647cb6-1ea6-4b39-9fcf-06d7b6360a3f",
   "metadata": {},
   "outputs": [],
   "source": [
    "plt.scatter(X[:,0], X[:,1], c=y_dbscan, cmap=\"viridis\", s=50)\n",
    "plt.title(\"DBSCAN CLUSTERİNG\")\n",
    "plt.show()"
   ]
  },
  {
   "cell_type": "code",
   "execution_count": null,
   "id": "b4a9741c-a010-4fcc-8a36-25f244af813c",
   "metadata": {},
   "outputs": [],
   "source": [
    "(centers, y) = mykmeans(X.tolist(),4,10000)"
   ]
  },
  {
   "cell_type": "code",
   "execution_count": null,
   "id": "d3940788-a5d6-4e33-8419-77136be173f6",
   "metadata": {},
   "outputs": [],
   "source": [
    "plt.scatter(X[:,0], X[:,1], c=y_dbscan, cmap=\"viridis\", s=50)\n",
    "plt.title(\"MY K-means CLUSTERİNG\")\n",
    "plt.show()"
   ]
  },
  {
   "cell_type": "code",
   "execution_count": null,
   "id": "6f78c473-e8c3-464e-a4e6-65ca32e4b4e8",
   "metadata": {},
   "outputs": [],
   "source": [
    "y_dbscan = mydbscan(X.tolist(), eps=2.0, min_pts=2)"
   ]
  },
  {
   "cell_type": "code",
   "execution_count": null,
   "id": "3aa7580e-c645-451d-aad5-f399ed333e09",
   "metadata": {},
   "outputs": [],
   "source": [
    "plt.scatter(X[:,0], X[:,1], c=y_dbscan, cmap=\"viridis\", s=50)\n",
    "plt.title(\"MY DBSCAN CLUSTERİNG\")\n",
    "plt.show()"
   ]
  },
  {
   "cell_type": "code",
   "execution_count": null,
   "id": "805d7815-ba0f-42b9-9ffc-22494269f520",
   "metadata": {},
   "outputs": [],
   "source": []
  }
 ],
 "metadata": {
  "kernelspec": {
   "display_name": "Python (myenv)",
   "language": "python",
   "name": "myenv"
  },
  "language_info": {
   "codemirror_mode": {
    "name": "ipython",
    "version": 3
   },
   "file_extension": ".py",
   "mimetype": "text/x-python",
   "name": "python",
   "nbconvert_exporter": "python",
   "pygments_lexer": "ipython3",
   "version": "3.11.13"
  }
 },
 "nbformat": 4,
 "nbformat_minor": 5
}
