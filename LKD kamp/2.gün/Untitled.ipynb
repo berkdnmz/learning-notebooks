{
 "cells": [
  {
   "cell_type": "code",
   "execution_count": 2,
   "id": "c4cfc98a-f1b8-4447-a7dd-46174b38a066",
   "metadata": {},
   "outputs": [
    {
     "name": "stdout",
     "output_type": "stream",
     "text": [
      "imbalanced-learn sürümü: 0.14.0\n"
     ]
    }
   ],
   "source": [
    "import imblearn\n",
    "print(\"imbalanced-learn sürümü:\", imblearn.__version__)"
   ]
  },
  {
   "cell_type": "code",
   "execution_count": 5,
   "id": "96aeb6ce-59d4-41af-bc18-7bdc85e07b3b",
   "metadata": {},
   "outputs": [],
   "source": [
    "import pandas as pd \n",
    "from sklearn.datasets import make_classification\n",
    "from imblearn.over_sampling import SMOTE\n",
    "from collections import Counter"
   ]
  },
  {
   "cell_type": "code",
   "execution_count": 9,
   "id": "dbd7a4dd-8f54-4e95-95f4-5a8c6c1bfdd5",
   "metadata": {},
   "outputs": [],
   "source": [
    "# veri seti oluşturalım\n",
    "X, y = make_classification(n_samples=1000, n_features=8, n_informative=3, \n",
    "                           n_redundant=0, n_classes=2, weights=[0.85, 0.15])"
   ]
  },
  {
   "cell_type": "code",
   "execution_count": 10,
   "id": "96239b7e-9001-4def-9771-0481a5691ba4",
   "metadata": {},
   "outputs": [
    {
     "name": "stdout",
     "output_type": "stream",
     "text": [
      "Counter({np.int64(0): 849, np.int64(1): 151})\n"
     ]
    }
   ],
   "source": [
    "print(Counter(y))"
   ]
  },
  {
   "cell_type": "code",
   "execution_count": 12,
   "id": "ef9b134a-b9c7-4377-b4f9-1654346290a1",
   "metadata": {},
   "outputs": [],
   "source": [
    "smote = SMOTE(sampling_strategy='auto', random_state = 42)\n",
    "X_res, y_res = smote.fit_resample(X,y)"
   ]
  },
  {
   "cell_type": "code",
   "execution_count": 14,
   "id": "847bb469-7dfa-45ef-9592-23836870fedc",
   "metadata": {},
   "outputs": [
    {
     "name": "stdout",
     "output_type": "stream",
     "text": [
      "SMOTE SONRASI SINIF DAĞILIMI: Counter({np.int64(1): 849, np.int64(0): 849})\n"
     ]
    }
   ],
   "source": [
    "print(\"SMOTE SONRASI SINIF DAĞILIMI:\", Counter(y_res))"
   ]
  },
  {
   "cell_type": "code",
   "execution_count": 17,
   "id": "4cbbd918-19f9-4cfa-ae56-81a7e0d656ab",
   "metadata": {},
   "outputs": [],
   "source": [
    "df_resampled = pd.DataFrame(X_res, \n",
    "                            columns=[f\"feature_{i}\"for i in range(X_res.shape[1])])"
   ]
  },
  {
   "cell_type": "code",
   "execution_count": 18,
   "id": "fd748e9b-8d93-4997-af2c-54dd8aea8cdf",
   "metadata": {},
   "outputs": [
    {
     "data": {
      "text/html": [
       "<div>\n",
       "<style scoped>\n",
       "    .dataframe tbody tr th:only-of-type {\n",
       "        vertical-align: middle;\n",
       "    }\n",
       "\n",
       "    .dataframe tbody tr th {\n",
       "        vertical-align: top;\n",
       "    }\n",
       "\n",
       "    .dataframe thead th {\n",
       "        text-align: right;\n",
       "    }\n",
       "</style>\n",
       "<table border=\"1\" class=\"dataframe\">\n",
       "  <thead>\n",
       "    <tr style=\"text-align: right;\">\n",
       "      <th></th>\n",
       "      <th>feature_0</th>\n",
       "      <th>feature_1</th>\n",
       "      <th>feature_2</th>\n",
       "      <th>feature_3</th>\n",
       "      <th>feature_4</th>\n",
       "      <th>feature_5</th>\n",
       "      <th>feature_6</th>\n",
       "      <th>feature_7</th>\n",
       "    </tr>\n",
       "  </thead>\n",
       "  <tbody>\n",
       "    <tr>\n",
       "      <th>0</th>\n",
       "      <td>-1.179946</td>\n",
       "      <td>-1.189462</td>\n",
       "      <td>-1.066178</td>\n",
       "      <td>1.225106</td>\n",
       "      <td>-1.321908</td>\n",
       "      <td>-0.590747</td>\n",
       "      <td>0.514110</td>\n",
       "      <td>1.468527</td>\n",
       "    </tr>\n",
       "    <tr>\n",
       "      <th>1</th>\n",
       "      <td>1.194357</td>\n",
       "      <td>1.198514</td>\n",
       "      <td>1.153265</td>\n",
       "      <td>0.191171</td>\n",
       "      <td>0.175381</td>\n",
       "      <td>-2.407204</td>\n",
       "      <td>-1.111931</td>\n",
       "      <td>0.423757</td>\n",
       "    </tr>\n",
       "    <tr>\n",
       "      <th>2</th>\n",
       "      <td>0.902549</td>\n",
       "      <td>1.008684</td>\n",
       "      <td>-1.090841</td>\n",
       "      <td>-1.865078</td>\n",
       "      <td>-1.521175</td>\n",
       "      <td>0.833992</td>\n",
       "      <td>-1.042093</td>\n",
       "      <td>-0.127223</td>\n",
       "    </tr>\n",
       "    <tr>\n",
       "      <th>3</th>\n",
       "      <td>-2.540214</td>\n",
       "      <td>0.716699</td>\n",
       "      <td>0.695056</td>\n",
       "      <td>-0.571621</td>\n",
       "      <td>1.248511</td>\n",
       "      <td>1.333322</td>\n",
       "      <td>-1.134636</td>\n",
       "      <td>-1.430112</td>\n",
       "    </tr>\n",
       "    <tr>\n",
       "      <th>4</th>\n",
       "      <td>0.299830</td>\n",
       "      <td>1.307663</td>\n",
       "      <td>-0.556824</td>\n",
       "      <td>-1.675223</td>\n",
       "      <td>0.263756</td>\n",
       "      <td>-0.277652</td>\n",
       "      <td>0.414854</td>\n",
       "      <td>1.361573</td>\n",
       "    </tr>\n",
       "    <tr>\n",
       "      <th>...</th>\n",
       "      <td>...</td>\n",
       "      <td>...</td>\n",
       "      <td>...</td>\n",
       "      <td>...</td>\n",
       "      <td>...</td>\n",
       "      <td>...</td>\n",
       "      <td>...</td>\n",
       "      <td>...</td>\n",
       "    </tr>\n",
       "    <tr>\n",
       "      <th>1693</th>\n",
       "      <td>-0.084292</td>\n",
       "      <td>-0.384664</td>\n",
       "      <td>0.291464</td>\n",
       "      <td>-1.789589</td>\n",
       "      <td>-2.007661</td>\n",
       "      <td>-0.024827</td>\n",
       "      <td>0.112841</td>\n",
       "      <td>-0.722889</td>\n",
       "    </tr>\n",
       "    <tr>\n",
       "      <th>1694</th>\n",
       "      <td>1.083700</td>\n",
       "      <td>2.207073</td>\n",
       "      <td>0.860741</td>\n",
       "      <td>-1.787952</td>\n",
       "      <td>-1.549703</td>\n",
       "      <td>-0.745376</td>\n",
       "      <td>-0.674759</td>\n",
       "      <td>0.235327</td>\n",
       "    </tr>\n",
       "    <tr>\n",
       "      <th>1695</th>\n",
       "      <td>1.076539</td>\n",
       "      <td>1.769640</td>\n",
       "      <td>-0.060047</td>\n",
       "      <td>-1.447517</td>\n",
       "      <td>-1.777301</td>\n",
       "      <td>-0.570926</td>\n",
       "      <td>0.220647</td>\n",
       "      <td>0.817516</td>\n",
       "    </tr>\n",
       "    <tr>\n",
       "      <th>1696</th>\n",
       "      <td>1.109410</td>\n",
       "      <td>1.882528</td>\n",
       "      <td>-0.068392</td>\n",
       "      <td>-1.546971</td>\n",
       "      <td>-1.771518</td>\n",
       "      <td>-0.496050</td>\n",
       "      <td>0.223758</td>\n",
       "      <td>0.707173</td>\n",
       "    </tr>\n",
       "    <tr>\n",
       "      <th>1697</th>\n",
       "      <td>0.553991</td>\n",
       "      <td>-0.708005</td>\n",
       "      <td>-1.103508</td>\n",
       "      <td>-2.694015</td>\n",
       "      <td>-0.977563</td>\n",
       "      <td>0.011902</td>\n",
       "      <td>-1.182728</td>\n",
       "      <td>0.955857</td>\n",
       "    </tr>\n",
       "  </tbody>\n",
       "</table>\n",
       "<p>1698 rows × 8 columns</p>\n",
       "</div>"
      ],
      "text/plain": [
       "      feature_0  feature_1  feature_2  feature_3  feature_4  feature_5  \\\n",
       "0     -1.179946  -1.189462  -1.066178   1.225106  -1.321908  -0.590747   \n",
       "1      1.194357   1.198514   1.153265   0.191171   0.175381  -2.407204   \n",
       "2      0.902549   1.008684  -1.090841  -1.865078  -1.521175   0.833992   \n",
       "3     -2.540214   0.716699   0.695056  -0.571621   1.248511   1.333322   \n",
       "4      0.299830   1.307663  -0.556824  -1.675223   0.263756  -0.277652   \n",
       "...         ...        ...        ...        ...        ...        ...   \n",
       "1693  -0.084292  -0.384664   0.291464  -1.789589  -2.007661  -0.024827   \n",
       "1694   1.083700   2.207073   0.860741  -1.787952  -1.549703  -0.745376   \n",
       "1695   1.076539   1.769640  -0.060047  -1.447517  -1.777301  -0.570926   \n",
       "1696   1.109410   1.882528  -0.068392  -1.546971  -1.771518  -0.496050   \n",
       "1697   0.553991  -0.708005  -1.103508  -2.694015  -0.977563   0.011902   \n",
       "\n",
       "      feature_6  feature_7  \n",
       "0      0.514110   1.468527  \n",
       "1     -1.111931   0.423757  \n",
       "2     -1.042093  -0.127223  \n",
       "3     -1.134636  -1.430112  \n",
       "4      0.414854   1.361573  \n",
       "...         ...        ...  \n",
       "1693   0.112841  -0.722889  \n",
       "1694  -0.674759   0.235327  \n",
       "1695   0.220647   0.817516  \n",
       "1696   0.223758   0.707173  \n",
       "1697  -1.182728   0.955857  \n",
       "\n",
       "[1698 rows x 8 columns]"
      ]
     },
     "execution_count": 18,
     "metadata": {},
     "output_type": "execute_result"
    }
   ],
   "source": [
    "df_resampled"
   ]
  },
  {
   "cell_type": "code",
   "execution_count": null,
   "id": "b03462ca-26eb-47ed-b62e-81ceaeab4e52",
   "metadata": {},
   "outputs": [],
   "source": []
  }
 ],
 "metadata": {
  "kernelspec": {
   "display_name": "Python (myenv)",
   "language": "python",
   "name": "myenv"
  },
  "language_info": {
   "codemirror_mode": {
    "name": "ipython",
    "version": 3
   },
   "file_extension": ".py",
   "mimetype": "text/x-python",
   "name": "python",
   "nbconvert_exporter": "python",
   "pygments_lexer": "ipython3",
   "version": "3.11.13"
  }
 },
 "nbformat": 4,
 "nbformat_minor": 5
}
