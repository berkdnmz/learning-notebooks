{
 "cells": [
  {
   "cell_type": "code",
   "execution_count": 31,
   "id": "4aaa09b0-766b-42b6-9150-e8c0f1a191de",
   "metadata": {},
   "outputs": [],
   "source": [
    "import random\n",
    "import math\n",
    "from typing import List, Tuple, Optional"
   ]
  },
  {
   "cell_type": "code",
   "execution_count": 32,
   "id": "5728e9b0-c380-4ecd-8e27-7879bf5612ab",
   "metadata": {},
   "outputs": [],
   "source": [
    "def distance(p1: List[float],p2:List[float])-> float:\n",
    "    return math.sqrt(sum((x1-x2)**2 for x1, x2 in zip(p1,p2)))"
   ]
  },
  {
   "cell_type": "code",
   "execution_count": 34,
   "id": "8ee38e53-7004-44ec-834d-40a46166eb1c",
   "metadata": {},
   "outputs": [],
   "source": [
    "def dbscan(\n",
    "    X: List[List[float]],\n",
    "    max_dist,\n",
    "    min_val):\n",
    "    clusters = []\n",
    "    noise = []\n",
    "    while X:   \n",
    "        temp_labels : List[int] = []\n",
    "        queue = [X.pop(0)]  \n",
    "        while queue:\n",
    "            current = queue.pop(0)\n",
    "            if current not in temp_labels:\n",
    "                temp_labels.append(current)\n",
    "                neighbors = [p for p in X if distance(current, p) <= max_dist]\n",
    "                for n in neighbors:\n",
    "                    if n not in temp_labels and n not in queue:\n",
    "                        queue.append(n)\n",
    "                        X.remove(n)\n",
    "        if len(temp_labels) >= min_val:\n",
    "            clusters.append(temp_labels)\n",
    "        else:\n",
    "            noise.extend(temp_labels)\n",
    "    return clusters, noise"
   ]
  },
  {
   "cell_type": "code",
   "execution_count": null,
   "id": "67c4519a-0f88-4d39-b9b5-f2bff05d657c",
   "metadata": {},
   "outputs": [],
   "source": []
  },
  {
   "cell_type": "code",
   "execution_count": null,
   "id": "b761d4c0-3ea8-4e69-b5c7-bc34302574cc",
   "metadata": {},
   "outputs": [],
   "source": []
  }
 ],
 "metadata": {
  "kernelspec": {
   "display_name": "Python (yapayzeka)",
   "language": "python",
   "name": "yapayzeka"
  },
  "language_info": {
   "codemirror_mode": {
    "name": "ipython",
    "version": 3
   },
   "file_extension": ".py",
   "mimetype": "text/x-python",
   "name": "python",
   "nbconvert_exporter": "python",
   "pygments_lexer": "ipython3",
   "version": "3.11.13"
  }
 },
 "nbformat": 4,
 "nbformat_minor": 5
}
