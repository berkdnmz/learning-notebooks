{
 "cells": [
  {
   "cell_type": "code",
   "execution_count": 2,
   "id": "195ddcf5-47ff-4c43-8645-36dc1ae4325b",
   "metadata": {},
   "outputs": [],
   "source": [
    "import tensorflow as tf\n",
    "from tensorflow.keras.preprocessing.image import ImageDataGenerator, load_img, img_to_array\n",
    "import matplotlib.pyplot as plt\n",
    "import numpy as np"
   ]
  },
  {
   "cell_type": "code",
   "execution_count": 10,
   "id": "c88115e6-9261-47e0-950d-8250fbab023e",
   "metadata": {},
   "outputs": [],
   "source": [
    "path = rpath = \"C:/Users/berkd/Desktop/GITHUB/learning-notebooks/LKD kamp/data/panda.png\"\n",
    "img = load_img(path)"
   ]
  },
  {
   "cell_type": "code",
   "execution_count": 11,
   "id": "197d3441-3a6d-43c2-bff5-aaf3c10b634e",
   "metadata": {},
   "outputs": [],
   "source": [
    "x = img_to_array(img)\n",
    "x = np.expand_dims(x, axis=0)"
   ]
  },
  {
   "cell_type": "code",
   "execution_count": 12,
   "id": "94111791-e2ff-44aa-9e51-70701a807c03",
   "metadata": {},
   "outputs": [],
   "source": [
    "# Augmentation seçenekleri"
   ]
  },
  {
   "cell_type": "code",
   "execution_count": 13,
   "id": "baaeed95-a9b6-4273-bfb4-d0ea326516c6",
   "metadata": {},
   "outputs": [],
   "source": [
    "datagen = ImageDataGenerator(\n",
    "    rotation_range = 40,       # 0-40 derece döndürme\n",
    "    width_shift_range = 0.2,   # yatay kaydırma\n",
    "    height_shift_range =0.2,   # dikey kaydırma\n",
    "    shear_range = 0.2,         # makaslama\n",
    "    zoom_range = 0.3,          # yakınlaşma aralığı\n",
    "    horizontal_flip = True,    # yatay çevirme\n",
    "    vertical_flip = True,      # dikey çevirme\n",
    "    fill_mode = \"nearest\"      # boş alan doldurma\n",
    ")"
   ]
  },
  {
   "cell_type": "code",
   "execution_count": 14,
   "id": "cdb0b689-a580-475c-a427-316f818f3201",
   "metadata": {},
   "outputs": [],
   "source": [
    "# örnek çoğaltma"
   ]
  },
  {
   "cell_type": "code",
   "execution_count": 17,
   "id": "aa1d4cb2-323b-4f53-85b8-2618ffe0e915",
   "metadata": {},
   "outputs": [
    {
     "data": {
      "text/plain": [
       "<Figure size 640x480 with 0 Axes>"
      ]
     },
     "metadata": {},
     "output_type": "display_data"
    },
    {
     "data": {
      "text/plain": [
       "<Figure size 640x480 with 0 Axes>"
      ]
     },
     "metadata": {},
     "output_type": "display_data"
    },
    {
     "data": {
      "text/plain": [
       "<Figure size 640x480 with 0 Axes>"
      ]
     },
     "metadata": {},
     "output_type": "display_data"
    },
    {
     "data": {
      "text/plain": [
       "<Figure size 640x480 with 0 Axes>"
      ]
     },
     "metadata": {},
     "output_type": "display_data"
    },
    {
     "data": {
      "text/plain": [
       "<Figure size 640x480 with 0 Axes>"
      ]
     },
     "metadata": {},
     "output_type": "display_data"
    },
    {
     "data": {
      "text/plain": [
       "<Figure size 640x480 with 0 Axes>"
      ]
     },
     "metadata": {},
     "output_type": "display_data"
    },
    {
     "data": {
      "text/plain": [
       "<Figure size 640x480 with 0 Axes>"
      ]
     },
     "metadata": {},
     "output_type": "display_data"
    },
    {
     "data": {
      "text/plain": [
       "<Figure size 640x480 with 0 Axes>"
      ]
     },
     "metadata": {},
     "output_type": "display_data"
    },
    {
     "data": {
      "text/plain": [
       "<Figure size 640x480 with 0 Axes>"
      ]
     },
     "metadata": {},
     "output_type": "display_data"
    },
    {
     "data": {
      "text/plain": [
       "<Figure size 640x480 with 0 Axes>"
      ]
     },
     "metadata": {},
     "output_type": "display_data"
    },
    {
     "data": {
      "text/plain": [
       "<Figure size 640x480 with 0 Axes>"
      ]
     },
     "metadata": {},
     "output_type": "display_data"
    }
   ],
   "source": [
    "save_path= r\"C:/Users/berkd/Desktop/GITHUB/learning-notebooks/LKD kamp/data/panda-agumented-\"\n",
    "i = 0\n",
    "for batch in datagen.flow(x, batch_size=1):\n",
    "    plt.figure(i)\n",
    "    plt.imsave(save_path + str(i) + \".png\", batch[0].astype(\"uint8\"))\n",
    "    i += 1\n",
    "    if i > 10:\n",
    "        break\n",
    "plt.show()"
   ]
  },
  {
   "cell_type": "code",
   "execution_count": null,
   "id": "f28e3d34-0416-447d-b552-0c73581b3b77",
   "metadata": {},
   "outputs": [],
   "source": []
  }
 ],
 "metadata": {
  "kernelspec": {
   "display_name": "Python (yapayzeka)",
   "language": "python",
   "name": "yapayzeka"
  },
  "language_info": {
   "codemirror_mode": {
    "name": "ipython",
    "version": 3
   },
   "file_extension": ".py",
   "mimetype": "text/x-python",
   "name": "python",
   "nbconvert_exporter": "python",
   "pygments_lexer": "ipython3",
   "version": "3.11.13"
  }
 },
 "nbformat": 4,
 "nbformat_minor": 5
}
