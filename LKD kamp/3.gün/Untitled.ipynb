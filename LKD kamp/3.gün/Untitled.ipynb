{
 "cells": [
  {
   "cell_type": "code",
   "execution_count": 4,
   "id": "16735186-b4bc-43f1-96e9-49d7bad1ba07",
   "metadata": {},
   "outputs": [],
   "source": [
    "from collections import defaultdict\n",
    "\n",
    "class SimpleNaiveBayes:\n",
    "    def __init__(self):\n",
    "        self.class_counts = {}     # sınıf sayıları\n",
    "        self.feature_counts = {}   # sınıf + özellik frekansları\n",
    "        self.classes = set()\n",
    "    \n",
    "    def fit(self, X, y):\n",
    "        \"\"\"\n",
    "        X: list of dicts, örn: {\"Renk\":\"Kırmızı\", \"Şekil\":\"Yuvarlak\", \"Sap\":\"Beyaz\"}\n",
    "        y: sınıf listesi, örn: [\"Zehirli\", \"Zehirli\", \"Zehirsiz\", ...]\n",
    "        \"\"\"\n",
    "        self.classes = set(y)\n",
    "        self.class_counts = {c: 0 for c in self.classes}\n",
    "        self.feature_counts = {c: defaultdict(lambda: defaultdict(int)) for c in self.classes}\n",
    "        \n",
    "        for features, cls in zip(X, y):\n",
    "            self.class_counts[cls] += 1\n",
    "            for f, v in features.items():\n",
    "                self.feature_counts[cls][f][v] += 1\n",
    "    \n",
    "    def predict(self, x):\n",
    "        \"\"\"\n",
    "        x: {\"Renk\":\"Kırmızı\", \"Şekil\":\"Yuvarlak\", \"Sap\":\"Beyaz\"}\n",
    "        \"\"\"\n",
    "        probs = {}\n",
    "        total = sum(self.class_counts.values())\n",
    "        \n",
    "        for c in self.classes:\n",
    "            # Ön olasılık\n",
    "            p = self.class_counts[c] / total\n",
    "            # Özellik çarpımları\n",
    "            for f, v in x.items():\n",
    "                feature_count = self.feature_counts[c][f].get(v, 0)\n",
    "                if feature_count == 0:\n",
    "                    p *= 0  # hiç görmediyse sıfır yap\n",
    "                else:\n",
    "                    p *= feature_count / self.class_counts[c]\n",
    "            probs[c] = p\n",
    "        \n",
    "        # En yüksek olasılığı seç\n",
    "        best = max(probs, key=probs.get)\n",
    "        return best, probs"
   ]
  },
  {
   "cell_type": "code",
   "execution_count": 7,
   "id": "16a6d58c-390f-490b-930c-801fdfeaf87d",
   "metadata": {},
   "outputs": [
    {
     "name": "stdout",
     "output_type": "stream",
     "text": [
      "('Zehirli', {'Zehirsiz': 0.0, 'Zehirli': 0.046875})\n"
     ]
    }
   ],
   "source": [
    "# Eğitim verisi\n",
    "X = [\n",
    "    {\"Renk\":\"Kırmızı\",\"Şekil\":\"Yuvarlak\",\"Sap\":\"Beyaz\"},\n",
    "    {\"Renk\":\"Kahverengi\",\"Şekil\":\"Yuvarlak\",\"Sap\":\"Kahverengi\"},\n",
    "    {\"Renk\":\"Kırmızı\",\"Şekil\":\"Düz\",\"Sap\":\"Beyaz\"},\n",
    "    {\"Renk\":\"Kahverengi\",\"Şekil\":\"Düz\",\"Sap\":\"Beyaz\"},\n",
    "    {\"Renk\":\"Sarı\",\"Şekil\":\"Uzun\",\"Yuvarlak\":\"Sarı\"},\n",
    "    {\"Renk\":\"Kahverengi\",\"Şekil\":\"Yuvarlak\",\"Sap\":\"Beyaz\"},\n",
    "    {\"Renk\":\"Kırmızı\",\"Şekil\":\"Yuvarlak\",\"Sap\":\"Kahverengi\"},\n",
    "    {\"Renk\":\"Sarı\",\"Şekil\":\"Düz\",\"Sap\":\"Beyaz\"},\n",
    "]\n",
    "y = [\"Zehirli\",\"Zehirsiz\",\"Zehirli\",\"Zehirsiz\",\"Zehirli\",\"Zehirsiz\",\"Zehirli\",\"Zehirsiz\"]\n",
    "\n",
    "nb = SimpleNaiveBayes()\n",
    "nb.fit(X, y)\n",
    "\n",
    "test = {\"Renk\":\"Kırmızı\",\"Şekil\":\"Yuvarlak\",\"Sap\":\"Kahverengi\"}\n",
    "print(nb.predict(test))"
   ]
  },
  {
   "cell_type": "code",
   "execution_count": null,
   "id": "0647854f-a69d-46c2-882d-ff2e42e9974b",
   "metadata": {},
   "outputs": [],
   "source": []
  }
 ],
 "metadata": {
  "kernelspec": {
   "display_name": "Python (myenv)",
   "language": "python",
   "name": "myenv"
  },
  "language_info": {
   "codemirror_mode": {
    "name": "ipython",
    "version": 3
   },
   "file_extension": ".py",
   "mimetype": "text/x-python",
   "name": "python",
   "nbconvert_exporter": "python",
   "pygments_lexer": "ipython3",
   "version": "3.11.13"
  }
 },
 "nbformat": 4,
 "nbformat_minor": 5
}
