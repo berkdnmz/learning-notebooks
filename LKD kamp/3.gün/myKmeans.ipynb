{
 "cells": [
  {
   "cell_type": "code",
   "execution_count": 1,
   "id": "184a9432-067e-4947-93d0-0990ba8d02f0",
   "metadata": {},
   "outputs": [],
   "source": [
    "import random\n",
    "import math\n",
    "from typing import List, Tuple, Optional"
   ]
  },
  {
   "cell_type": "code",
   "execution_count": 4,
   "id": "1963cc56-e66a-42b6-a900-f03d500f4565",
   "metadata": {},
   "outputs": [],
   "source": [
    "def euclidean(p1: List[float], p2: List[float]) -> float:\n",
    "    return math.sqrt( sum((x1-x2)**2 for x1, x2 in zip(p1,p2)))"
   ]
  },
  {
   "cell_type": "code",
   "execution_count": 5,
   "id": "7bbce431-3533-4b32-8fd0-cbe030857d42",
   "metadata": {},
   "outputs": [
    {
     "data": {
      "text/plain": [
       "1.4142135623730951"
      ]
     },
     "execution_count": 5,
     "metadata": {},
     "output_type": "execute_result"
    }
   ],
   "source": [
    "p1 = [1,2]\n",
    "p2= [2,1]\n",
    "euclidean(p1,p2)"
   ]
  },
  {
   "cell_type": "code",
   "execution_count": 6,
   "id": "851e9237-870c-4c32-abaa-a7df66a6c340",
   "metadata": {},
   "outputs": [],
   "source": [
    "def mean_point( points: List[List[float]]) -> List[float] | None:\n",
    "    n = len(points)\n",
    "    if n == 0:\n",
    "        return None\n",
    "    dim = len(points[0])\n",
    "    return [sum(p[i] for p in points) / n for i in range(dim)]"
   ]
  },
  {
   "cell_type": "code",
   "execution_count": 7,
   "id": "ad5f1a54-a9a4-4a46-a53c-dc7a6a91c005",
   "metadata": {},
   "outputs": [
    {
     "data": {
      "text/plain": [
       "[2.0]"
      ]
     },
     "execution_count": 7,
     "metadata": {},
     "output_type": "execute_result"
    }
   ],
   "source": [
    "mean_point([[1],[1],[2],[4]])"
   ]
  },
  {
   "cell_type": "code",
   "execution_count": 9,
   "id": "f1502d0d-be06-4148-9ea4-3cc79ce94314",
   "metadata": {},
   "outputs": [],
   "source": [
    "def kmeans(\n",
    "    X: List[List[float]],\n",
    "    k: int,\n",
    "    max_iter: int = 1000) -> Tuple[List[List[float]], List[int]]:\n",
    "\n",
    "    #. 1. Başlangıç merkezlerini belirle\n",
    "    centers: List[List[float]] = random.sample(X,k)\n",
    "\n",
    "    for iteR in range(max_iter):\n",
    "        # 2. her noktanın en yakın merkeze ata\n",
    "        labels: List[int] = []\n",
    "        for p in X:\n",
    "            distances = [euclidean(p,c) for c in centers]\n",
    "            labels.append(distances.index(min(distances)))\n",
    "\n",
    "        #3. her küme için yeni merkezleri hesapla\n",
    "        new_centers: List[List[float]] = []\n",
    "        for j in range(k):\n",
    "            cluster_points = [p for p, lbl in zip(X, labels) if lbl == j]\n",
    "            c = mean_point(cluster_points)\n",
    "            if c is None:\n",
    "                c = centers[j]\n",
    "            new_centers.append(c)\n",
    "        # 4. merkezler değişmediyse algoritmayı durdur\n",
    "        if new_centers == centers:\n",
    "            break\n",
    "        centers = new_centers\n",
    "    return centers, labels"
   ]
  },
  {
   "cell_type": "code",
   "execution_count": null,
   "id": "1bc1879d-4197-424a-b732-65820a70d543",
   "metadata": {},
   "outputs": [],
   "source": []
  }
 ],
 "metadata": {
  "kernelspec": {
   "display_name": "Python (yapayzeka)",
   "language": "python",
   "name": "yapayzeka"
  },
  "language_info": {
   "codemirror_mode": {
    "name": "ipython",
    "version": 3
   },
   "file_extension": ".py",
   "mimetype": "text/x-python",
   "name": "python",
   "nbconvert_exporter": "python",
   "pygments_lexer": "ipython3",
   "version": "3.11.13"
  }
 },
 "nbformat": 4,
 "nbformat_minor": 5
}
