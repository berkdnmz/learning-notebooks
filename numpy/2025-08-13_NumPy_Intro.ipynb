{
 "cells": [
  {
   "cell_type": "code",
   "execution_count": 6,
   "id": "3085b3f5-02f0-4d5a-84d0-10d1eb4d07e8",
   "metadata": {},
   "outputs": [],
   "source": [
    "import numpy as np"
   ]
  },
  {
   "cell_type": "code",
   "execution_count": 7,
   "id": "e3a9d281-5f10-413f-a646-ba3bd313111d",
   "metadata": {},
   "outputs": [],
   "source": [
    "#numpy array"
   ]
  },
  {
   "cell_type": "code",
   "execution_count": 8,
   "id": "d7545d7a-58ce-4769-ac9f-ca3a470f7ea6",
   "metadata": {},
   "outputs": [],
   "source": [
    "my_list = [10,20,30,40]"
   ]
  },
  {
   "cell_type": "code",
   "execution_count": 9,
   "id": "45013587-6d86-4418-816f-5c4a5701bde5",
   "metadata": {},
   "outputs": [
    {
     "data": {
      "text/plain": [
       "list"
      ]
     },
     "execution_count": 9,
     "metadata": {},
     "output_type": "execute_result"
    }
   ],
   "source": [
    "type(my_list)"
   ]
  },
  {
   "cell_type": "code",
   "execution_count": 10,
   "id": "1fb31fce-a23f-49b1-afa6-0e9ffd42a85b",
   "metadata": {},
   "outputs": [
    {
     "data": {
      "text/plain": [
       "array([10, 20, 30, 40])"
      ]
     },
     "execution_count": 10,
     "metadata": {},
     "output_type": "execute_result"
    }
   ],
   "source": [
    "np.array(my_list)"
   ]
  },
  {
   "cell_type": "code",
   "execution_count": 11,
   "id": "5f83a9cc-6479-4c52-9497-09b9edce58ca",
   "metadata": {},
   "outputs": [],
   "source": [
    "my_numpy_array = np.array(my_list)"
   ]
  },
  {
   "cell_type": "code",
   "execution_count": 12,
   "id": "7b550fb8-a9a5-4064-851e-28c2b534fbf3",
   "metadata": {},
   "outputs": [
    {
     "data": {
      "text/plain": [
       "numpy.ndarray"
      ]
     },
     "execution_count": 12,
     "metadata": {},
     "output_type": "execute_result"
    }
   ],
   "source": [
    "type(my_numpy_array)"
   ]
  },
  {
   "cell_type": "code",
   "execution_count": 13,
   "id": "06a5c3a2-c585-46c6-99dc-32392e7a2b37",
   "metadata": {},
   "outputs": [
    {
     "data": {
      "text/plain": [
       "array([10, 20, 30, 40])"
      ]
     },
     "execution_count": 13,
     "metadata": {},
     "output_type": "execute_result"
    }
   ],
   "source": [
    "my_numpy_array"
   ]
  },
  {
   "cell_type": "code",
   "execution_count": 14,
   "id": "8b5ad708-5956-41c7-a473-1c97fea33b72",
   "metadata": {},
   "outputs": [
    {
     "data": {
      "text/plain": [
       "np.int64(10)"
      ]
     },
     "execution_count": 14,
     "metadata": {},
     "output_type": "execute_result"
    }
   ],
   "source": [
    "my_numpy_array[0]"
   ]
  },
  {
   "cell_type": "code",
   "execution_count": 17,
   "id": "81279726-5915-4e1c-b89b-dfc74baace22",
   "metadata": {},
   "outputs": [
    {
     "data": {
      "text/plain": [
       "np.int64(40)"
      ]
     },
     "execution_count": 17,
     "metadata": {},
     "output_type": "execute_result"
    }
   ],
   "source": [
    "my_numpy_array[-1]"
   ]
  },
  {
   "cell_type": "code",
   "execution_count": 18,
   "id": "85dacb66-cd41-4fed-aa55-a1ef20717221",
   "metadata": {},
   "outputs": [],
   "source": [
    "my_numpy_array[0]=100"
   ]
  },
  {
   "cell_type": "code",
   "execution_count": 19,
   "id": "895d52d1-12ac-4e13-b5d3-4a6f0e4d4b1a",
   "metadata": {},
   "outputs": [
    {
     "data": {
      "text/plain": [
       "array([100,  20,  30,  40])"
      ]
     },
     "execution_count": 19,
     "metadata": {},
     "output_type": "execute_result"
    }
   ],
   "source": [
    "my_numpy_array"
   ]
  },
  {
   "cell_type": "code",
   "execution_count": 20,
   "id": "da80e5f7-3066-4c90-90a4-49bae588817d",
   "metadata": {},
   "outputs": [
    {
     "data": {
      "text/plain": [
       "np.int64(100)"
      ]
     },
     "execution_count": 20,
     "metadata": {},
     "output_type": "execute_result"
    }
   ],
   "source": [
    "my_numpy_array.max()"
   ]
  },
  {
   "cell_type": "code",
   "execution_count": 22,
   "id": "2f28b217-8edf-4187-b742-2e2ffb70dbf7",
   "metadata": {},
   "outputs": [
    {
     "data": {
      "text/plain": [
       "np.int64(20)"
      ]
     },
     "execution_count": 22,
     "metadata": {},
     "output_type": "execute_result"
    }
   ],
   "source": [
    "my_numpy_array.min()"
   ]
  },
  {
   "cell_type": "code",
   "execution_count": 23,
   "id": "525105eb-9bb1-42ad-929e-982aa5f66a8c",
   "metadata": {},
   "outputs": [
    {
     "data": {
      "text/plain": [
       "np.float64(47.5)"
      ]
     },
     "execution_count": 23,
     "metadata": {},
     "output_type": "execute_result"
    }
   ],
   "source": [
    "my_numpy_array.mean()"
   ]
  },
  {
   "cell_type": "code",
   "execution_count": 24,
   "id": "bbceb6e4-a584-498b-82ff-38aa39f50d7a",
   "metadata": {},
   "outputs": [],
   "source": [
    "matrix_list = [[1,0,0],[0,1,0],[0,0,1],[0,0,0]]"
   ]
  },
  {
   "cell_type": "code",
   "execution_count": 25,
   "id": "5e10bcbd-827a-4bca-85fa-77ed157cedbd",
   "metadata": {},
   "outputs": [
    {
     "data": {
      "text/plain": [
       "list"
      ]
     },
     "execution_count": 25,
     "metadata": {},
     "output_type": "execute_result"
    }
   ],
   "source": [
    "type(matrix_list)"
   ]
  },
  {
   "cell_type": "code",
   "execution_count": 26,
   "id": "24719f41-ddd2-49fa-8458-4eff6ac1ae34",
   "metadata": {},
   "outputs": [
    {
     "data": {
      "text/plain": [
       "1"
      ]
     },
     "execution_count": 26,
     "metadata": {},
     "output_type": "execute_result"
    }
   ],
   "source": [
    "matrix_list[0][0]"
   ]
  },
  {
   "cell_type": "code",
   "execution_count": 28,
   "id": "145bd06c-e2b1-4cb9-b5c5-266adbd10675",
   "metadata": {},
   "outputs": [],
   "source": [
    "numpy_matrix_list = np.array(matrix_list)"
   ]
  },
  {
   "cell_type": "code",
   "execution_count": 29,
   "id": "3ed2cd7a-9384-4653-b3a2-7fd39a40a3b1",
   "metadata": {},
   "outputs": [
    {
     "data": {
      "text/plain": [
       "array([[1, 0, 0],\n",
       "       [0, 1, 0],\n",
       "       [0, 0, 1],\n",
       "       [0, 0, 0]])"
      ]
     },
     "execution_count": 29,
     "metadata": {},
     "output_type": "execute_result"
    }
   ],
   "source": [
    "numpy_matrix_list"
   ]
  },
  {
   "cell_type": "code",
   "execution_count": 30,
   "id": "2375b8d3-2b21-4d08-9726-d12c1e5528f1",
   "metadata": {
    "scrolled": true
   },
   "outputs": [
    {
     "data": {
      "text/plain": [
       "np.int64(1)"
      ]
     },
     "execution_count": 30,
     "metadata": {},
     "output_type": "execute_result"
    }
   ],
   "source": [
    "numpy_matrix_list[0][0]"
   ]
  },
  {
   "cell_type": "code",
   "execution_count": 31,
   "id": "6b11f6a9-c364-4de1-b4c2-75c730bad715",
   "metadata": {},
   "outputs": [
    {
     "data": {
      "text/plain": [
       "(4, 3)"
      ]
     },
     "execution_count": 31,
     "metadata": {},
     "output_type": "execute_result"
    }
   ],
   "source": [
    "numpy_matrix_list.shape"
   ]
  },
  {
   "cell_type": "code",
   "execution_count": 32,
   "id": "d3c72368-3f4c-47ba-8145-f93e3ec21e92",
   "metadata": {},
   "outputs": [],
   "source": [
    "#arange"
   ]
  },
  {
   "cell_type": "code",
   "execution_count": 33,
   "id": "6f1da377-bd17-449e-a287-f0afd4bfcc62",
   "metadata": {},
   "outputs": [
    {
     "data": {
      "text/plain": [
       "range(0, 10)"
      ]
     },
     "execution_count": 33,
     "metadata": {},
     "output_type": "execute_result"
    }
   ],
   "source": [
    "range (0,10)"
   ]
  },
  {
   "cell_type": "code",
   "execution_count": 34,
   "id": "f3848f5f-3ce7-4ffa-ab81-1faf457bb6bc",
   "metadata": {},
   "outputs": [
    {
     "data": {
      "text/plain": [
       "[0, 1, 2, 3, 4, 5, 6, 7, 8, 9]"
      ]
     },
     "execution_count": 34,
     "metadata": {},
     "output_type": "execute_result"
    }
   ],
   "source": [
    "list(range(0,10))"
   ]
  },
  {
   "cell_type": "code",
   "execution_count": 35,
   "id": "2f306824-4c19-4e71-9f60-ea73c06a6713",
   "metadata": {},
   "outputs": [
    {
     "data": {
      "text/plain": [
       "array([0, 1, 2, 3, 4, 5, 6, 7, 8, 9])"
      ]
     },
     "execution_count": 35,
     "metadata": {},
     "output_type": "execute_result"
    }
   ],
   "source": [
    "np.arange(0,10)"
   ]
  },
  {
   "cell_type": "code",
   "execution_count": 36,
   "id": "67a1fc2a-d8aa-4232-a966-c44482bd2f35",
   "metadata": {},
   "outputs": [
    {
     "data": {
      "text/plain": [
       "array([ 0,  3,  6,  9, 12, 15, 18, 21, 24, 27, 30, 33, 36, 39])"
      ]
     },
     "execution_count": 36,
     "metadata": {},
     "output_type": "execute_result"
    }
   ],
   "source": [
    "np.arange(0,40,3)"
   ]
  },
  {
   "cell_type": "code",
   "execution_count": 37,
   "id": "0542129e-c278-4f1f-bf02-e692b8832b76",
   "metadata": {},
   "outputs": [
    {
     "data": {
      "text/plain": [
       "array([0., 0., 0., 0., 0., 0., 0., 0., 0., 0.])"
      ]
     },
     "execution_count": 37,
     "metadata": {},
     "output_type": "execute_result"
    }
   ],
   "source": [
    "np.zeros(10)"
   ]
  },
  {
   "cell_type": "code",
   "execution_count": 38,
   "id": "57859c42-813e-413d-8451-1a045e3b1563",
   "metadata": {},
   "outputs": [
    {
     "data": {
      "text/plain": [
       "array([[0., 0., 0., 0., 0., 0., 0., 0., 0., 0.],\n",
       "       [0., 0., 0., 0., 0., 0., 0., 0., 0., 0.],\n",
       "       [0., 0., 0., 0., 0., 0., 0., 0., 0., 0.],\n",
       "       [0., 0., 0., 0., 0., 0., 0., 0., 0., 0.],\n",
       "       [0., 0., 0., 0., 0., 0., 0., 0., 0., 0.],\n",
       "       [0., 0., 0., 0., 0., 0., 0., 0., 0., 0.],\n",
       "       [0., 0., 0., 0., 0., 0., 0., 0., 0., 0.],\n",
       "       [0., 0., 0., 0., 0., 0., 0., 0., 0., 0.],\n",
       "       [0., 0., 0., 0., 0., 0., 0., 0., 0., 0.],\n",
       "       [0., 0., 0., 0., 0., 0., 0., 0., 0., 0.]])"
      ]
     },
     "execution_count": 38,
     "metadata": {},
     "output_type": "execute_result"
    }
   ],
   "source": [
    "np.zeros((10,10))"
   ]
  },
  {
   "cell_type": "code",
   "execution_count": 39,
   "id": "a39d2996-7986-4b47-8b64-21b7eb2e8dc3",
   "metadata": {},
   "outputs": [
    {
     "data": {
      "text/plain": [
       "array([[1.]])"
      ]
     },
     "execution_count": 39,
     "metadata": {},
     "output_type": "execute_result"
    }
   ],
   "source": [
    "np.ones((1,1))"
   ]
  },
  {
   "cell_type": "code",
   "execution_count": 41,
   "id": "58619d5a-46be-47ab-bc06-465462ae42d6",
   "metadata": {},
   "outputs": [
    {
     "data": {
      "text/plain": [
       "array([[1., 1., 1., 1., 1., 1., 1., 1., 1., 1.],\n",
       "       [1., 1., 1., 1., 1., 1., 1., 1., 1., 1.],\n",
       "       [1., 1., 1., 1., 1., 1., 1., 1., 1., 1.],\n",
       "       [1., 1., 1., 1., 1., 1., 1., 1., 1., 1.],\n",
       "       [1., 1., 1., 1., 1., 1., 1., 1., 1., 1.],\n",
       "       [1., 1., 1., 1., 1., 1., 1., 1., 1., 1.],\n",
       "       [1., 1., 1., 1., 1., 1., 1., 1., 1., 1.],\n",
       "       [1., 1., 1., 1., 1., 1., 1., 1., 1., 1.],\n",
       "       [1., 1., 1., 1., 1., 1., 1., 1., 1., 1.],\n",
       "       [1., 1., 1., 1., 1., 1., 1., 1., 1., 1.]])"
      ]
     },
     "execution_count": 41,
     "metadata": {},
     "output_type": "execute_result"
    }
   ],
   "source": [
    "np.ones((10,10))"
   ]
  },
  {
   "cell_type": "code",
   "execution_count": 42,
   "id": "93aea46b-55d7-45c3-947b-67df1e1442ee",
   "metadata": {},
   "outputs": [],
   "source": [
    "#linspace"
   ]
  },
  {
   "cell_type": "code",
   "execution_count": 43,
   "id": "820fbab4-01a6-444d-9c39-53a17bdbf97f",
   "metadata": {},
   "outputs": [
    {
     "data": {
      "text/plain": [
       "array([ 0.        ,  1.11111111,  2.22222222,  3.33333333,  4.44444444,\n",
       "        5.55555556,  6.66666667,  7.77777778,  8.88888889, 10.        ])"
      ]
     },
     "execution_count": 43,
     "metadata": {},
     "output_type": "execute_result"
    }
   ],
   "source": [
    "np.linspace(0,10,10)"
   ]
  },
  {
   "cell_type": "code",
   "execution_count": 44,
   "id": "1cc8110c-8de1-4a7d-ba64-76c6acb25464",
   "metadata": {},
   "outputs": [
    {
     "data": {
      "text/plain": [
       "array([ 0.        ,  0.1010101 ,  0.2020202 ,  0.3030303 ,  0.4040404 ,\n",
       "        0.50505051,  0.60606061,  0.70707071,  0.80808081,  0.90909091,\n",
       "        1.01010101,  1.11111111,  1.21212121,  1.31313131,  1.41414141,\n",
       "        1.51515152,  1.61616162,  1.71717172,  1.81818182,  1.91919192,\n",
       "        2.02020202,  2.12121212,  2.22222222,  2.32323232,  2.42424242,\n",
       "        2.52525253,  2.62626263,  2.72727273,  2.82828283,  2.92929293,\n",
       "        3.03030303,  3.13131313,  3.23232323,  3.33333333,  3.43434343,\n",
       "        3.53535354,  3.63636364,  3.73737374,  3.83838384,  3.93939394,\n",
       "        4.04040404,  4.14141414,  4.24242424,  4.34343434,  4.44444444,\n",
       "        4.54545455,  4.64646465,  4.74747475,  4.84848485,  4.94949495,\n",
       "        5.05050505,  5.15151515,  5.25252525,  5.35353535,  5.45454545,\n",
       "        5.55555556,  5.65656566,  5.75757576,  5.85858586,  5.95959596,\n",
       "        6.06060606,  6.16161616,  6.26262626,  6.36363636,  6.46464646,\n",
       "        6.56565657,  6.66666667,  6.76767677,  6.86868687,  6.96969697,\n",
       "        7.07070707,  7.17171717,  7.27272727,  7.37373737,  7.47474747,\n",
       "        7.57575758,  7.67676768,  7.77777778,  7.87878788,  7.97979798,\n",
       "        8.08080808,  8.18181818,  8.28282828,  8.38383838,  8.48484848,\n",
       "        8.58585859,  8.68686869,  8.78787879,  8.88888889,  8.98989899,\n",
       "        9.09090909,  9.19191919,  9.29292929,  9.39393939,  9.49494949,\n",
       "        9.5959596 ,  9.6969697 ,  9.7979798 ,  9.8989899 , 10.        ])"
      ]
     },
     "execution_count": 44,
     "metadata": {},
     "output_type": "execute_result"
    }
   ],
   "source": [
    "np.linspace(0,10,100)"
   ]
  },
  {
   "cell_type": "code",
   "execution_count": 45,
   "id": "c69b7d5f-8dfc-4588-8dcd-289f7a513e89",
   "metadata": {},
   "outputs": [],
   "source": [
    "#random"
   ]
  },
  {
   "cell_type": "code",
   "execution_count": 47,
   "id": "b51a16f7-cd3e-45da-adc8-eca61e76b2d8",
   "metadata": {},
   "outputs": [
    {
     "data": {
      "text/plain": [
       "array([4, 4, 3], dtype=int32)"
      ]
     },
     "execution_count": 47,
     "metadata": {},
     "output_type": "execute_result"
    }
   ],
   "source": [
    "np.random.randint(1,10,3)"
   ]
  },
  {
   "cell_type": "code",
   "execution_count": 48,
   "id": "a7311de1-d489-4249-b385-f54ffd44c62f",
   "metadata": {},
   "outputs": [
    {
     "data": {
      "text/plain": [
       "99"
      ]
     },
     "execution_count": 48,
     "metadata": {},
     "output_type": "execute_result"
    }
   ],
   "source": [
    "np.random.randint(100)"
   ]
  },
  {
   "cell_type": "code",
   "execution_count": 49,
   "id": "28a7b3ae-09c9-4fed-9061-9938599d1648",
   "metadata": {},
   "outputs": [
    {
     "data": {
      "text/plain": [
       "array([14, 84,  4, 36,  9, 46, 93, 18, 54, 23], dtype=int32)"
      ]
     },
     "execution_count": 49,
     "metadata": {},
     "output_type": "execute_result"
    }
   ],
   "source": [
    "np.random.randint(1,100,10)"
   ]
  },
  {
   "cell_type": "code",
   "execution_count": 50,
   "id": "ebf3bfd8-0de5-4a61-944f-c0e75c751751",
   "metadata": {},
   "outputs": [],
   "source": [
    "# numpy arrays methods"
   ]
  },
  {
   "cell_type": "code",
   "execution_count": 51,
   "id": "b8f2b429-190c-4a77-98d2-dfd9b1c3e6f5",
   "metadata": {},
   "outputs": [],
   "source": [
    "my_numpy_list = np.arange(0,20)"
   ]
  },
  {
   "cell_type": "code",
   "execution_count": 52,
   "id": "809cd5b6-77f9-4900-9fc3-5ea8690a2e9c",
   "metadata": {},
   "outputs": [
    {
     "data": {
      "text/plain": [
       "array([ 0,  1,  2,  3,  4,  5,  6,  7,  8,  9, 10, 11, 12, 13, 14, 15, 16,\n",
       "       17, 18, 19])"
      ]
     },
     "execution_count": 52,
     "metadata": {},
     "output_type": "execute_result"
    }
   ],
   "source": [
    "my_numpy_list"
   ]
  },
  {
   "cell_type": "code",
   "execution_count": 53,
   "id": "ccf96176-3389-4731-b7f5-588ebdddf40c",
   "metadata": {},
   "outputs": [
    {
     "data": {
      "text/plain": [
       "np.int64(4)"
      ]
     },
     "execution_count": 53,
     "metadata": {},
     "output_type": "execute_result"
    }
   ],
   "source": [
    "my_numpy_list[4]"
   ]
  },
  {
   "cell_type": "code",
   "execution_count": 55,
   "id": "3a751abc-7f1b-4705-9a34-ebe90ec707f3",
   "metadata": {},
   "outputs": [
    {
     "data": {
      "text/plain": [
       "array([4, 6, 8])"
      ]
     },
     "execution_count": 55,
     "metadata": {},
     "output_type": "execute_result"
    }
   ],
   "source": [
    "my_numpy_list[4:9:2]"
   ]
  },
  {
   "cell_type": "code",
   "execution_count": 56,
   "id": "6b9ce654-556a-43f3-884d-9c70c03c6266",
   "metadata": {},
   "outputs": [],
   "source": [
    "my_list = list (range(0,20))"
   ]
  },
  {
   "cell_type": "code",
   "execution_count": 57,
   "id": "5d5a6362-d0d2-448a-bdbd-c88e9b87eab6",
   "metadata": {},
   "outputs": [
    {
     "data": {
      "text/plain": [
       "[0, 1, 2, 3, 4, 5, 6, 7, 8, 9, 10, 11, 12, 13, 14, 15, 16, 17, 18, 19]"
      ]
     },
     "execution_count": 57,
     "metadata": {},
     "output_type": "execute_result"
    }
   ],
   "source": [
    "my_list"
   ]
  },
  {
   "cell_type": "code",
   "execution_count": 58,
   "id": "f57d4542-2b13-4f20-9471-ad7e0e919f27",
   "metadata": {},
   "outputs": [
    {
     "ename": "TypeError",
     "evalue": "can only assign an iterable",
     "output_type": "error",
     "traceback": [
      "\u001b[31m---------------------------------------------------------------------------\u001b[39m",
      "\u001b[31mTypeError\u001b[39m                                 Traceback (most recent call last)",
      "\u001b[36mCell\u001b[39m\u001b[36m \u001b[39m\u001b[32mIn[58]\u001b[39m\u001b[32m, line 1\u001b[39m\n\u001b[32m----> \u001b[39m\u001b[32m1\u001b[39m my_list[\u001b[32m4\u001b[39m:\u001b[32m9\u001b[39m] = -\u001b[32m10\u001b[39m\n",
      "\u001b[31mTypeError\u001b[39m: can only assign an iterable"
     ]
    }
   ],
   "source": [
    "my_list[4:9] = -10"
   ]
  },
  {
   "cell_type": "code",
   "execution_count": 59,
   "id": "37d69af4-e965-48e1-aedb-0df06b4ad830",
   "metadata": {},
   "outputs": [],
   "source": [
    "my_numpy_list[4:9] = -10"
   ]
  },
  {
   "cell_type": "code",
   "execution_count": 60,
   "id": "97ff6156-b960-4fd2-ba73-0af7e7abc081",
   "metadata": {},
   "outputs": [
    {
     "data": {
      "text/plain": [
       "array([  0,   1,   2,   3, -10, -10, -10, -10, -10,   9,  10,  11,  12,\n",
       "        13,  14,  15,  16,  17,  18,  19])"
      ]
     },
     "execution_count": 60,
     "metadata": {},
     "output_type": "execute_result"
    }
   ],
   "source": [
    "my_numpy_list"
   ]
  },
  {
   "cell_type": "code",
   "execution_count": 61,
   "id": "4727a99a-0ae7-44e2-884b-b838c8c0c7a0",
   "metadata": {},
   "outputs": [],
   "source": [
    "other_list = np.arange(0,15)"
   ]
  },
  {
   "cell_type": "code",
   "execution_count": 62,
   "id": "fbbcff79-7d68-4e41-81e1-8557b610f6bf",
   "metadata": {},
   "outputs": [
    {
     "data": {
      "text/plain": [
       "array([ 0,  1,  2,  3,  4,  5,  6,  7,  8,  9, 10, 11, 12, 13, 14])"
      ]
     },
     "execution_count": 62,
     "metadata": {},
     "output_type": "execute_result"
    }
   ],
   "source": [
    "other_list"
   ]
  },
  {
   "cell_type": "code",
   "execution_count": 63,
   "id": "067b9624-728e-4399-bffd-51b7412b2093",
   "metadata": {},
   "outputs": [
    {
     "data": {
      "text/plain": [
       "array([4, 5, 6, 7, 8, 9])"
      ]
     },
     "execution_count": 63,
     "metadata": {},
     "output_type": "execute_result"
    }
   ],
   "source": [
    "other_list[4:10]"
   ]
  },
  {
   "cell_type": "code",
   "execution_count": 74,
   "id": "d9851907-5796-4a96-99ee-d935e08638e9",
   "metadata": {},
   "outputs": [],
   "source": [
    "slicing_list = other_list[4:10]"
   ]
  },
  {
   "cell_type": "code",
   "execution_count": 75,
   "id": "1b3eca61-0dc8-40fe-b4f5-baa50010fb25",
   "metadata": {},
   "outputs": [
    {
     "data": {
      "text/plain": [
       "array([4, 5, 6, 7, 8, 9])"
      ]
     },
     "execution_count": 75,
     "metadata": {},
     "output_type": "execute_result"
    }
   ],
   "source": [
    "slicing_list"
   ]
  },
  {
   "cell_type": "code",
   "execution_count": 76,
   "id": "32054e4e-2452-4a10-8a3c-544a475714b6",
   "metadata": {},
   "outputs": [
    {
     "data": {
      "text/plain": [
       "array([ 0,  1,  2,  3,  4,  5,  6,  7,  8,  9, 10, 11, 12, 13, 14])"
      ]
     },
     "execution_count": 76,
     "metadata": {},
     "output_type": "execute_result"
    }
   ],
   "source": [
    "other_list"
   ]
  },
  {
   "cell_type": "code",
   "execution_count": 79,
   "id": "d63dd0bb-5552-4446-86be-405c8462886e",
   "metadata": {},
   "outputs": [],
   "source": [
    "slicing_list [:] = 100"
   ]
  },
  {
   "cell_type": "code",
   "execution_count": 80,
   "id": "8da8105c-575b-406a-864f-c3b6a9c09a08",
   "metadata": {},
   "outputs": [
    {
     "data": {
      "text/plain": [
       "array([100, 100, 100, 100, 100, 100])"
      ]
     },
     "execution_count": 80,
     "metadata": {},
     "output_type": "execute_result"
    }
   ],
   "source": [
    "slicing_list"
   ]
  },
  {
   "cell_type": "code",
   "execution_count": 81,
   "id": "aab7e942-8ae5-4190-8c5e-127f9a83bbf7",
   "metadata": {},
   "outputs": [
    {
     "data": {
      "text/plain": [
       "array([  0,   1,   2,   3, 100, 100, 100, 100, 100, 100,  10,  11,  12,\n",
       "        13,  14])"
      ]
     },
     "execution_count": 81,
     "metadata": {},
     "output_type": "execute_result"
    }
   ],
   "source": [
    "other_list"
   ]
  },
  {
   "cell_type": "code",
   "execution_count": 82,
   "id": "283ced0b-180f-46d5-9bd6-5cb101c6e711",
   "metadata": {},
   "outputs": [],
   "source": [
    "#aynı listeye atamadık ama birbiriyle bağlantılı kalıyor"
   ]
  },
  {
   "cell_type": "code",
   "execution_count": 83,
   "id": "a1368362-546a-4367-bfbe-69297f44187d",
   "metadata": {},
   "outputs": [],
   "source": [
    "#böyle olmasını istemiyorsak copy methoduyla farklı liste oluşturuyoruz ve bağlantısı kalmıyor"
   ]
  },
  {
   "cell_type": "code",
   "execution_count": 85,
   "id": "36b383d3-ab0f-4e4f-8b68-01ce5701693d",
   "metadata": {},
   "outputs": [],
   "source": [
    "numpy_list_3 = np.arange(0,20)"
   ]
  },
  {
   "cell_type": "code",
   "execution_count": 86,
   "id": "ef8882f7-c63c-4b42-9425-8b5d82b1cefc",
   "metadata": {},
   "outputs": [
    {
     "data": {
      "text/plain": [
       "array([ 0,  1,  2,  3,  4,  5,  6,  7,  8,  9, 10, 11, 12, 13, 14, 15, 16,\n",
       "       17, 18, 19])"
      ]
     },
     "execution_count": 86,
     "metadata": {},
     "output_type": "execute_result"
    }
   ],
   "source": [
    "numpy_list_3"
   ]
  },
  {
   "cell_type": "code",
   "execution_count": 87,
   "id": "b977e5fe-402b-42aa-b18c-a1fecc0b9f55",
   "metadata": {},
   "outputs": [],
   "source": [
    "numpy_list_3_copy = numpy_list_3.copy()"
   ]
  },
  {
   "cell_type": "code",
   "execution_count": 88,
   "id": "72dce7f4-f54a-4f1d-9557-8f3602e0e8e4",
   "metadata": {},
   "outputs": [],
   "source": [
    "slicing_3 = numpy_list_3_copy[4:9]"
   ]
  },
  {
   "cell_type": "code",
   "execution_count": 92,
   "id": "d2f020a7-df7b-409e-94c0-f07d8ea5dfce",
   "metadata": {},
   "outputs": [],
   "source": [
    "slicing_3[:] = 39"
   ]
  },
  {
   "cell_type": "code",
   "execution_count": 93,
   "id": "d9f4bfd0-e44f-40cd-bf5b-1c13818abb0f",
   "metadata": {},
   "outputs": [
    {
     "data": {
      "text/plain": [
       "array([39, 39, 39, 39, 39])"
      ]
     },
     "execution_count": 93,
     "metadata": {},
     "output_type": "execute_result"
    }
   ],
   "source": [
    "slicing_3"
   ]
  },
  {
   "cell_type": "code",
   "execution_count": 94,
   "id": "0917df1b-64ed-47c8-bcc7-80eae4c28643",
   "metadata": {},
   "outputs": [
    {
     "data": {
      "text/plain": [
       "array([ 0,  1,  2,  3, 39, 39, 39, 39, 39,  9, 10, 11, 12, 13, 14, 15, 16,\n",
       "       17, 18, 19])"
      ]
     },
     "execution_count": 94,
     "metadata": {},
     "output_type": "execute_result"
    }
   ],
   "source": [
    "numpy_list_3_copy"
   ]
  },
  {
   "cell_type": "code",
   "execution_count": 95,
   "id": "ef46c280-605b-4ea9-9d2f-584085289d94",
   "metadata": {},
   "outputs": [
    {
     "data": {
      "text/plain": [
       "array([ 0,  1,  2,  3,  4,  5,  6,  7,  8,  9, 10, 11, 12, 13, 14, 15, 16,\n",
       "       17, 18, 19])"
      ]
     },
     "execution_count": 95,
     "metadata": {},
     "output_type": "execute_result"
    }
   ],
   "source": [
    "numpy_list_3"
   ]
  },
  {
   "cell_type": "code",
   "execution_count": 96,
   "id": "ee834e39-48d0-4b1b-8a73-c466d18d4434",
   "metadata": {},
   "outputs": [],
   "source": [
    "#numpy operations with numpy arrays"
   ]
  },
  {
   "cell_type": "code",
   "execution_count": 97,
   "id": "5303965d-d76d-4db4-bc37-7db127171c0a",
   "metadata": {},
   "outputs": [],
   "source": [
    "new_array = np.random.randint(1,150,25)"
   ]
  },
  {
   "cell_type": "code",
   "execution_count": 98,
   "id": "a203174a-00b5-496a-8495-0f48b1ee2c61",
   "metadata": {},
   "outputs": [
    {
     "data": {
      "text/plain": [
       "array([ 61,   3,  26, 137, 114,  75,   9,  68, 135, 140,  17, 126, 132,\n",
       "        87, 147,  42, 101, 136, 146,  10, 148,  89,  92, 133, 131],\n",
       "      dtype=int32)"
      ]
     },
     "execution_count": 98,
     "metadata": {},
     "output_type": "execute_result"
    }
   ],
   "source": [
    "new_array"
   ]
  },
  {
   "cell_type": "code",
   "execution_count": 99,
   "id": "7756b66c-7650-47e0-ac81-71c27597e349",
   "metadata": {},
   "outputs": [
    {
     "data": {
      "text/plain": [
       "array([ True, False, False,  True,  True,  True, False,  True,  True,\n",
       "        True, False,  True,  True,  True,  True,  True,  True,  True,\n",
       "        True, False,  True,  True,  True,  True,  True])"
      ]
     },
     "execution_count": 99,
     "metadata": {},
     "output_type": "execute_result"
    }
   ],
   "source": [
    "new_array > 40"
   ]
  },
  {
   "cell_type": "code",
   "execution_count": 100,
   "id": "fcdbb1ea-132b-4efa-a914-9e484c153119",
   "metadata": {},
   "outputs": [],
   "source": [
    "result_array = new_array > 40"
   ]
  },
  {
   "cell_type": "code",
   "execution_count": 102,
   "id": "eb656258-cd7c-4d94-9bbb-74e18650978d",
   "metadata": {},
   "outputs": [
    {
     "data": {
      "text/plain": [
       "array([ True, False, False,  True,  True,  True, False,  True,  True,\n",
       "        True, False,  True,  True,  True,  True,  True,  True,  True,\n",
       "        True, False,  True,  True,  True,  True,  True])"
      ]
     },
     "execution_count": 102,
     "metadata": {},
     "output_type": "execute_result"
    }
   ],
   "source": [
    "result_array"
   ]
  },
  {
   "cell_type": "code",
   "execution_count": 104,
   "id": "ef473e8a-1342-490b-9a9a-d39d1954b508",
   "metadata": {},
   "outputs": [
    {
     "data": {
      "text/plain": [
       "array([ 61, 137, 114,  75,  68, 135, 140, 126, 132,  87, 147,  42, 101,\n",
       "       136, 146, 148,  89,  92, 133, 131], dtype=int32)"
      ]
     },
     "execution_count": 104,
     "metadata": {},
     "output_type": "execute_result"
    }
   ],
   "source": [
    "new_array[result_array]"
   ]
  },
  {
   "cell_type": "code",
   "execution_count": null,
   "id": "acc7af97-8117-4784-9838-3635e5c4fe0b",
   "metadata": {},
   "outputs": [],
   "source": []
  }
 ],
 "metadata": {
  "kernelspec": {
   "display_name": "Python (myenv)",
   "language": "python",
   "name": "myenv"
  },
  "language_info": {
   "codemirror_mode": {
    "name": "ipython",
    "version": 3
   },
   "file_extension": ".py",
   "mimetype": "text/x-python",
   "name": "python",
   "nbconvert_exporter": "python",
   "pygments_lexer": "ipython3",
   "version": "3.11.13"
  }
 },
 "nbformat": 4,
 "nbformat_minor": 5
}
